{
 "cells": [
  {
   "attachments": {},
   "cell_type": "markdown",
   "metadata": {},
   "source": [
    "| Задание 44 |\n",
    "| --- |\n",
    "| В ячейке ниже представлен код генерирующий DataFrame, которая состоит всего из 1 столбца. Ваша задача перевести его в one hot вид. Сможете ли вы это сделать без get_dummies?"
   ]
  },
  {
   "cell_type": "code",
   "execution_count": null,
   "metadata": {},
   "outputs": [],
   "source": [
    "from numpy.core.fromnumeric import var\n",
    "import pandas as pd \n",
    "import numpy as np \n",
    "import random\n",
    " \n",
    "lst = ['robot'] * 10\n",
    "lst += ['human'] * 10\n",
    "random.shuffle(lst)\n",
    "data = pd.DataFrame({'whoAmI': lst})\n",
    "data.head()\n",
    "print(F\"{data} \\n -----------------------------------------------\") \n",
    "\n",
    "\"\"\"Вариант 1\"\"\"\n",
    "table_one = pd.get_dummies(data, columns=['whoAmI'])\n",
    "print(F\"{table_one} \\n ----------------------------------------------\")\n",
    "\n",
    "\"\"\"Вариант 2\"\"\"\n",
    "data[\"\"] = 1\n",
    "data.set_index([data.index, \"whoAmI\"], inplace=True)\n",
    "table_two = data.unstack(level = 0, fill_value = 0)\n",
    "print(F\"{table_two} \\n -----------------------------------------------\")\n"
   ]
  }
 ],
 "metadata": {
  "kernelspec": {
   "display_name": "Python 3",
   "language": "python",
   "name": "python3"
  },
  "language_info": {
   "codemirror_mode": {
    "name": "ipython",
    "version": 3
   },
   "file_extension": ".py",
   "mimetype": "text/x-python",
   "name": "python",
   "nbconvert_exporter": "python",
   "pygments_lexer": "ipython3",
   "version": "3.11.4"
  },
  "orig_nbformat": 4
 },
 "nbformat": 4,
 "nbformat_minor": 2
}
